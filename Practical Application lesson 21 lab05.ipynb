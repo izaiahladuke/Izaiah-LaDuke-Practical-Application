{
 "cells": [
  {
   "cell_type": "markdown",
   "metadata": {},
   "source": [
    "# Lab 5: Resampling and the Bootstrap\n",
    "\n",
    "Welcome to Lab 5!\n",
    "\n",
    "We will attempt to estimate the number `N`, a *population parameter*, that represents the number of elements in a population. We get to observe a uniform random sample of the elements, and for each one we can observe its serial number (from 1 to `N`). All elements are labeled with consecutive serial numbers from 1 to `N`, so `N` is the total number of elements. \n",
    "\n",
    "Given *just* a random sample of elements, we'll estimate `N`, and then we'll use simulation to find a confidence interval around our estimate, all without ever looking at the whole population.  This is an example of *statistical inference*.\n",
    "\n",
    "As usual, **run the cell below** to prepare the lab and the automatic tests."
   ]
  },
  {
   "cell_type": "code",
   "execution_count": 3,
   "metadata": {},
   "outputs": [],
   "source": [
    "# Run this cell to set up the notebook, but please don't change it.\n",
    "\n",
    "# These lines import the Numpy and Datascience modules.\n",
    "import numpy as np\n",
    "from datascience import *\n",
    "\n",
    "# These lines do some fancy plotting magic.\n",
    "import matplotlib\n",
    "%matplotlib inline\n",
    "import matplotlib.pyplot as plt\n",
    "plt.style.use('fivethirtyeight')\n",
    "import warnings\n",
    "warnings.simplefilter('ignore', UserWarning)\n",
    "\n"
   ]
  },
  {
   "cell_type": "markdown",
   "metadata": {},
   "source": [
    "## 1. Preliminaries\n",
    "The setup: We want to know the number of elements in the population.  That number is `N`.  Each element is numbered from 1 to `N`.\n",
    "\n",
    "We only see a small number of elements (assumed to be a uniform random sample with replacement from among all the elements), so we have to use estimation."
   ]
  },
  {
   "cell_type": "markdown",
   "metadata": {},
   "source": [
    "#### Question 1.1\n",
    "Is `N` a population parameter or a statistic?  If we compute a number using our random sample that's an estimate of `N`, is that a population parameter or a statistic?"
   ]
  },
  {
   "cell_type": "markdown",
   "metadata": {},
   "source": [
    "N is a population parameter. If we compute a number using our random sample that's an estimate of N, that is a statistic."
   ]
  },
  {
   "cell_type": "markdown",
   "metadata": {},
   "source": [
    "Check your answer by posting on the discussion forum.\n",
    "\n",
    "To make the situation realistic, we're going to hide the true number of elements from you.  You'll have access only to this random sample:"
   ]
  },
  {
   "cell_type": "code",
   "execution_count": 4,
   "metadata": {},
   "outputs": [
    {
     "data": {
      "text/html": [
       "<table border=\"1\" class=\"dataframe\">\n",
       "    <thead>\n",
       "        <tr>\n",
       "            <th>serial number</th>\n",
       "        </tr>\n",
       "    </thead>\n",
       "    <tbody>\n",
       "        <tr>\n",
       "            <td>47           </td>\n",
       "        </tr>\n",
       "        <tr>\n",
       "            <td>42           </td>\n",
       "        </tr>\n",
       "        <tr>\n",
       "            <td>57           </td>\n",
       "        </tr>\n",
       "        <tr>\n",
       "            <td>79           </td>\n",
       "        </tr>\n",
       "        <tr>\n",
       "            <td>26           </td>\n",
       "        </tr>\n",
       "        <tr>\n",
       "            <td>23           </td>\n",
       "        </tr>\n",
       "        <tr>\n",
       "            <td>36           </td>\n",
       "        </tr>\n",
       "        <tr>\n",
       "            <td>64           </td>\n",
       "        </tr>\n",
       "        <tr>\n",
       "            <td>83           </td>\n",
       "        </tr>\n",
       "        <tr>\n",
       "            <td>135          </td>\n",
       "        </tr>\n",
       "    </tbody>\n",
       "</table>\n",
       "<p>... (7 rows omitted)</p>"
      ],
      "text/plain": [
       "serial number\n",
       "47\n",
       "42\n",
       "57\n",
       "79\n",
       "26\n",
       "23\n",
       "36\n",
       "64\n",
       "83\n",
       "135\n",
       "... (7 rows omitted)"
      ]
     },
     "execution_count": 4,
     "metadata": {},
     "output_type": "execute_result"
    }
   ],
   "source": [
    "observations = Table.read_table(\"serial_numbers.csv\")\n",
    "num_observations = observations.num_rows\n",
    "observations"
   ]
  },
  {
   "cell_type": "markdown",
   "metadata": {},
   "source": [
    "#### Question 1.2\n",
    "Define a function named `plot_serial_numbers` to make a histogram of any table of serial numbers.  It should take one argument, a table like `observations` with one column called `\"serial number\"`.  It should plot a histogram of the values in the column **using bins of width 1** ranging from **1 to 200** but return nothing.  Then, call that function to make a histogram of `observations`."
   ]
  },
  {
   "cell_type": "code",
   "execution_count": 5,
   "metadata": {},
   "outputs": [
    {
     "data": {
      "image/png": "[encoded data removed]",
      "text/plain": [
       "<Figure size 432x288 with 1 Axes>"
      ]
     },
     "metadata": {},
     "output_type": "display_data"
    }
   ],
   "source": [
    "def plot_serial_numbers(numbers):\n",
    "    numbers.hist('serial number',bins=np.arange(1,200,1))\n",
    "    \n",
    "    # Assuming the lines above produce a histogram, this next\n",
    "    # line may make your histograms look nicer.  Feel free to\n",
    "    # delete it if you want.\n",
    "    plt.ylim(0, .25)\n",
    "\n",
    "plot_serial_numbers(observations)"
   ]
  },
  {
   "cell_type": "markdown",
   "metadata": {},
   "source": [
    "#### Question 1.3\n",
    "By looking at the histogram, what can we say about `N` immediately? (Hint: What is the relationship between `N` and the largest serial number in `observations`?) What does each little bar in the histogram represent? Why are all the bars the same height?"
   ]
  },
  {
   "cell_type": "markdown",
   "metadata": {},
   "source": [
    "The largest serial number in observations is equal to N. Each little bar in the histogram represents how often that number shows up in observations. They are all the same height because they all show up 1 time."
   ]
  },
  {
   "cell_type": "markdown",
   "metadata": {},
   "source": [
    "#### Question 1.4\n",
    "One way to estimate `N` is to take twice the mean of the serial numbers we observe. Write a function that computes that statistic.  It should take as its argument an array of serial numbers and return twice their mean.  Call it `mean_based_estimator`.  \n",
    "\n",
    "After that, use it to compute an estimate of `N` called `mean_based_estimate`."
   ]
  },
  {
   "cell_type": "code",
   "execution_count": 6,
   "metadata": {},
   "outputs": [
    {
     "data": {
      "text/plain": [
       "array([ 94.,  84., 114., 158.,  52.,  46.,  72., 128., 166., 270.,  82.,\n",
       "        42., 134., 216., 168., 100., 156.])"
      ]
     },
     "execution_count": 6,
     "metadata": {},
     "output_type": "execute_result"
    }
   ],
   "source": [
    "def mean_based_estimator(nums):\n",
    "    \n",
    "    return np.mean(nums)*2\n",
    "\n",
    "mean_based_estimate = observations.apply(mean_based_estimator,'serial number')\n",
    "mean_based_estimate"
   ]
  },
  {
   "cell_type": "markdown",
   "metadata": {},
   "source": [
    "#### Question 1.5\n",
    "We can also estimate `N` using the biggest serial number in the sample.  Compute it, giving it the name `max_estimate`."
   ]
  },
  {
   "cell_type": "code",
   "execution_count": 7,
   "metadata": {},
   "outputs": [
    {
     "data": {
      "text/plain": [
       "135"
      ]
     },
     "execution_count": 7,
     "metadata": {},
     "output_type": "execute_result"
    }
   ],
   "source": [
    "max_estimate = np.max(observations.column(0))\n",
    "max_estimate"
   ]
  },
  {
   "cell_type": "markdown",
   "metadata": {},
   "source": [
    "#### Question 1.6\n",
    "Look at the values of `max_estimate` and `mean_based_estimate` that we happened to get for our dataset.  The value of `max_estimate` tells you something about `mean_based_estimate`.  For these specific values, is it possible for our value  of `mean_based_estimate` to be equal to `N` (at least, if we round it to the nearest integer)?  If not, is it definitely higher, definitely lower, or can we not tell?  Can you make a statement like the value of our \"`mean_based_estimate` is at least *[fill in a number]* away from `N`\"?"
   ]
  },
  {
   "cell_type": "markdown",
   "metadata": {},
   "source": [
    "We cannot make the mean based estimate equal to N by rounding. The value of our mean based estimate as compared tot he max estimate is at least 12 away from N."
   ]
  },
  {
   "cell_type": "markdown",
   "metadata": {},
   "source": [
    "Check your answer by posting on the discussion forum.\n",
    "\n",
    "We can't just confidently proclaim that `max_estimate` or `mean_based_estimate` is equal to `N`.  What if we're really far off?  So we want to get a sense of the accuracy of our estimates."
   ]
  },
  {
   "cell_type": "markdown",
   "metadata": {},
   "source": [
    "## 2. Resampling\n",
    "To do this, we'll use resampling.  That is, we won't exactly simulate new observations.  Rather we sample from our current sample, or \"resample\" the data.\n",
    "\n",
    "Why does that make any sense?\n",
    "\n",
    "When we tried to estimate `N`, we would have liked to use the whole population.  Since we had only a sample, we used that to estimate `N` instead.\n",
    "\n",
    "This time, we would like to use the population of serial numbers to *run a simulation* about estimates of `N`.  But we still only have our sample.  We use our sample in place of the population to run the simulation.\n",
    "\n",
    "So there is a simple analogy between estimating `N` and simulating the variability of estimates.\n",
    "\n",
    "$$\\text{computing }N\\text{ from the population}$$\n",
    "$$:$$\n",
    "$$\\text{computing an estimate of }N\\text{ from a sample}$$\n",
    "\n",
    "$$\\text{as}$$\n",
    "\n",
    "$$\\text{simulating the distribution of estimates of }N\\text{ using samples from the population}$$\n",
    "$$:$$\n",
    "$$\\text{simulating an (approximate) distribution of estimates of }N\\text{ using resamples from a sample}$$"
   ]
  },
  {
   "cell_type": "markdown",
   "metadata": {},
   "source": [
    "#### Question 2.1\n",
    "Write a function called `simulate_resample`.  It should generate a resample from the observed serial numbers in `observations` and return that resample.  (The resample should be a table like `observations`.)  It should take no arguments."
   ]
  },
  {
   "cell_type": "code",
   "execution_count": 8,
   "metadata": {},
   "outputs": [],
   "source": [
    "def simulate_resample():\n",
    "    return observations.sample()"
   ]
  },
  {
   "cell_type": "markdown",
   "metadata": {},
   "source": [
    "Let's make one resample."
   ]
  },
  {
   "cell_type": "code",
   "execution_count": 9,
   "metadata": {},
   "outputs": [
    {
     "data": {
      "text/html": [
       "<table border=\"1\" class=\"dataframe\">\n",
       "    <thead>\n",
       "        <tr>\n",
       "            <th>serial number</th>\n",
       "        </tr>\n",
       "    </thead>\n",
       "    <tbody>\n",
       "        <tr>\n",
       "            <td>108          </td>\n",
       "        </tr>\n",
       "        <tr>\n",
       "            <td>57           </td>\n",
       "        </tr>\n",
       "        <tr>\n",
       "            <td>57           </td>\n",
       "        </tr>\n",
       "        <tr>\n",
       "            <td>36           </td>\n",
       "        </tr>\n",
       "        <tr>\n",
       "            <td>41           </td>\n",
       "        </tr>\n",
       "        <tr>\n",
       "            <td>42           </td>\n",
       "        </tr>\n",
       "        <tr>\n",
       "            <td>47           </td>\n",
       "        </tr>\n",
       "        <tr>\n",
       "            <td>50           </td>\n",
       "        </tr>\n",
       "        <tr>\n",
       "            <td>135          </td>\n",
       "        </tr>\n",
       "        <tr>\n",
       "            <td>47           </td>\n",
       "        </tr>\n",
       "    </tbody>\n",
       "</table>\n",
       "<p>... (7 rows omitted)</p>"
      ],
      "text/plain": [
       "serial number\n",
       "108\n",
       "57\n",
       "57\n",
       "36\n",
       "41\n",
       "42\n",
       "47\n",
       "50\n",
       "135\n",
       "47\n",
       "... (7 rows omitted)"
      ]
     },
     "execution_count": 9,
     "metadata": {},
     "output_type": "execute_result"
    }
   ],
   "source": [
    "# This line is a little magic to make sure that you see the same results\n",
    "# we did.\n",
    "np.random.seed(123)\n",
    "\n",
    "one_resample = simulate_resample()\n",
    "one_resample"
   ]
  },
  {
   "cell_type": "markdown",
   "metadata": {},
   "source": [
    "Later, we'll use many resamples at once to see what estimates typically look like.  We don't often pay attention to single resamples, so it's easy to misunderstand them.  Let's examine some individual resamples before we start using them."
   ]
  },
  {
   "cell_type": "markdown",
   "metadata": {},
   "source": [
    "#### Question 2.2\n",
    "In preparation for answering the next question, generate a histogram of your resample using the plotting function you defined earlier in this lab, **and** generate a separate histogram of the original observations."
   ]
  },
  {
   "cell_type": "code",
   "execution_count": 10,
   "metadata": {},
   "outputs": [
    {
     "data": {
      "image/png": "[encoded data removed]",
      "text/plain": [
       "<Figure size 432x288 with 1 Axes>"
      ]
     },
     "metadata": {},
     "output_type": "display_data"
    },
    {
     "data": {
      "image/png": "[encoded data removed]",
      "text/plain": [
       "<Figure size 432x288 with 1 Axes>"
      ]
     },
     "metadata": {},
     "output_type": "display_data"
    }
   ],
   "source": [
    "plot_serial_numbers(one_resample)\n",
    "plot_serial_numbers(observations)"
   ]
  },
  {
   "cell_type": "markdown",
   "metadata": {},
   "source": [
    "#### Question 2.3\n",
    "Which of the following are true:\n",
    "1. In the plot of the resample, there are no bars at locations that weren't there in the plot of the original observations.\n",
    "2. In the plot of the original observations, there are no bars at locations that weren't there in the plot of the resample.\n",
    "3. The resample has exactly one copy of each serial number.\n",
    "4. The sample has exactly one copy of each serial number.\n",
    "\n",
    "Assign true_statements to a list of the correct statements."
   ]
  },
  {
   "cell_type": "code",
   "execution_count": 11,
   "metadata": {},
   "outputs": [],
   "source": [
    "true_statements = [1,4]"
   ]
  },
  {
   "cell_type": "markdown",
   "metadata": {},
   "source": [
    "#### Question 2.4\n",
    "Create two more resamples using the function `simulate_resample` from above. For each resampled data, plot it and compute its max- and mean-based estimates."
   ]
  },
  {
   "cell_type": "code",
   "execution_count": 12,
   "metadata": {},
   "outputs": [
    {
     "name": "stdout",
     "output_type": "stream",
     "text": [
      "Mean-based estimate for resample 0: 128.8235294117647\n",
      "Max-based estimate for resample 0: 135\n",
      "Mean-based estimate for resample 1: 106.82352941176471\n",
      "Max-based estimate for resample 1: 108\n"
     ]
    },
    {
     "data": {
      "image/png": "[encoded data removed]",
      "text/plain": [
       "<Figure size 432x288 with 1 Axes>"
      ]
     },
     "metadata": {},
     "output_type": "display_data"
    },
    {
     "data": {
      "image/png": "[encoded data removed]",
      "text/plain": [
       "<Figure size 432x288 with 1 Axes>"
      ]
     },
     "metadata": {},
     "output_type": "display_data"
    }
   ],
   "source": [
    "resample_0 = simulate_resample()\n",
    "plot_serial_numbers(resample_0)\n",
    "mean_based_estimate_0 = mean_based_estimator(resample_0.column(0))\n",
    "max_based_estimate_0 = np.max(resample_0.column(0))\n",
    "print(\"Mean-based estimate for resample 0:\", mean_based_estimate_0)\n",
    "print(\"Max-based estimate for resample 0:\", max_based_estimate_0)\n",
    "\n",
    "resample_1 = simulate_resample()\n",
    "plot_serial_numbers(resample_1)\n",
    "mean_based_estimate_1 = mean_based_estimator(resample_1.column(0))\n",
    "max_based_estimate_1 = np.max(resample_1.column(0))\n",
    "print(\"Mean-based estimate for resample 1:\", mean_based_estimate_1)\n",
    "print(\"Max-based estimate for resample 1:\", max_based_estimate_1)"
   ]
  },
  {
   "cell_type": "markdown",
   "metadata": {},
   "source": [
    "You may find that the max-based estimates from the resamples are both exactly 135.  You will probably find that the two mean-based estimates do differ from the sample mean-based estimate (and from each other).\n",
    "\n",
    "#### Question 2.5\n",
    "Using probability that you've learned, compute the exact chance that a max-based estimate from *one* resample is 135.\n",
    "\n",
    "Using your intuition, explain why a mean-based estimate from a resample is less often exactly equal to the mean-based estimate from the original sample as compared to a max-based estimate.\n",
    "\n",
    "As a refresher, here are some rules of probability that may be helpful:\n",
    "\n",
    "- When all outcomes are equally likely: P(event happens) $=$ $\\frac{\\text{# outcomes that make event happen}}{\\text{# of all outcomes}}$\n",
    "\n",
    "- When an event can happen in 2 ways: P(event) $=$ P(event happening first way) $+$ P(event happening second way)\n",
    "\n",
    "- When 2 events must both happen: P(2 events both happen) $=$ P(one event happens) $*$ P(other event happens, given the first one happened)\n",
    "\n",
    "- When an event doesn't happen: P(event doesn't happen) $=$ 1 $-$ P(event does happen)\n",
    "\n",
    "- P(at least one success) $= 1 - $ P(no successes)"
   ]
  },
  {
   "cell_type": "code",
   "execution_count": 13,
   "metadata": {},
   "outputs": [
    {
     "data": {
      "text/plain": [
       "0.6432138052537073"
      ]
     },
     "execution_count": 13,
     "metadata": {},
     "output_type": "execute_result"
    }
   ],
   "source": [
    "1-(16/17)**17"
   ]
  },
  {
   "cell_type": "markdown",
   "metadata": {},
   "source": [
    "The mean-based estimate from a resample is less often exactly equal to the mean-based estimate from the original becasue the sample takes from the original with replacement so the same number can be selected multiple times, effecting the average."
   ]
  },
  {
   "cell_type": "markdown",
   "metadata": {},
   "source": [
    "Discuss your answers on the edX discussion forums.  If you have difficulty with the probability calculation, ask for help; don't stay stuck on it for too long."
   ]
  },
  {
   "cell_type": "markdown",
   "metadata": {},
   "source": [
    "## 3. Simulating with resampling\n",
    "\n",
    "**Note**: *The last part of this lab is difficult to check automatically, so it will not be graded. We strongly suggest that you try to complete it. We will release solutions to this lab so that you can compare to them.*\n",
    "\n",
    "Since resampling from a sample is very similar to sampling from a population, the code should look almost the same.  That means we can write a function that simulates either sampling from a population or resampling from a sample.  If we pass it a population as its argument, it will do the former; if we pass it a sample, it will do the latter.\n",
    "\n",
    "#### Question 3.1\n",
    "Write a function called `simulate_estimates`.  It should take 4 arguments:\n",
    "1. A table from which the data should be sampled.  The table will have 1 column named `\"serial number\"`.\n",
    "2. The size of each sample from that table, an integer.  (For example, to do resampling, we would pass for this argument the number of rows in the table.)\n",
    "3. A function that computes a statistic of a sample.  This argument is a *function* that takes an array of serial numbers as its argument and returns a number.\n",
    "4. The number of replications to perform.\n",
    "\n",
    "It should simulate many samples with replacement from the given table.  (The number of samples is the 4th argument.)  For each of those samples, it should compute the statistic on that sample. Then it should return an array containing each of those statistics.  The code below provides an example use of your function and describes how you can verify that you've written it correctly.\n",
    "\n",
    "**Hint**: Your implementation should contain the following line, which extracts the \"serial number\" column from some table ``t`` and calls the `statistic` function on it, storing the result in the name `s`.\n",
    "\n",
    "``s = statistic(t.column(\"serial number\"))``"
   ]
  },
  {
   "cell_type": "code",
   "execution_count": 14,
   "metadata": {
    "for_assignment_type": "student"
   },
   "outputs": [
    {
     "data": {
      "image/png": "[encoded data removed]",
      "text/plain": [
       "<Figure size 432x288 with 1 Axes>"
      ]
     },
     "metadata": {},
     "output_type": "display_data"
    }
   ],
   "source": [
    "def simulate_estimates(original_table, sample_size, statistic, num_replications):\n",
    "    # Our implementation of this function took 5 short lines of code.\n",
    "    results = []\n",
    "    for i in np.arange(num_replications):\n",
    "        sample = original_table.sample(sample_size)\n",
    "        results.append(statistic(sample.column('serial number')))\n",
    "    return np.asarray(results)\n",
    "\n",
    "# This should generate an empirical histogram of twice-mean estimates\n",
    "# of N from samples of size 50 if N is 1000.  This should be a bell-shaped\n",
    "# curve centered at 1000 with most of its mass in [800, 1200].  To verify your\n",
    "# answer, make sure that's what you see!\n",
    "example_estimates = simulate_estimates(\n",
    "    Table().with_column(\"serial number\", np.arange(1, 1000+1)),\n",
    "    50,\n",
    "    mean_based_estimator,\n",
    "    10000)\n",
    "Table().with_column(\"mean-based estimate\", example_estimates).hist(bins=np.arange(0, 1500, 25))"
   ]
  },
  {
   "cell_type": "markdown",
   "metadata": {},
   "source": [
    "Now we can go back to the sample we actually observed (the table `observations`) and estimate how much our mean-based estimate of `N` would have varied from sample to sample."
   ]
  },
  {
   "cell_type": "markdown",
   "metadata": {},
   "source": [
    "#### Question 3.2\n",
    "Using the bootstrap and the sample `observations`, simulate the approximate distribution of *mean-based estimates* of `N`.  Use 5,000 replications.  \n",
    "We have provided code that plots a histogram, allowing you to visualize the simulated estimates."
   ]
  },
  {
   "cell_type": "code",
   "execution_count": 15,
   "metadata": {},
   "outputs": [
    {
     "data": {
      "image/png": "[encoded data removed]",
      "text/plain": [
       "<Figure size 432x288 with 1 Axes>"
      ]
     },
     "metadata": {},
     "output_type": "display_data"
    }
   ],
   "source": [
    "bootstrap_estimates = simulate_estimates(observations,observations.num_rows,mean_based_estimator,5000)\n",
    "Table().with_column(\"mean-based estimate\", bootstrap_estimates).hist(bins=np.arange(0, 200, 4)) "
   ]
  },
  {
   "cell_type": "markdown",
   "metadata": {},
   "source": [
    "#### Question 3.3\n",
    "Compute an interval that covers the middle 95% of the bootstrap estimates.  Verify that your interval looks like it covers 95% of the area in the histogram above."
   ]
  },
  {
   "cell_type": "code",
   "execution_count": 16,
   "metadata": {},
   "outputs": [
    {
     "name": "stdout",
     "output_type": "stream",
     "text": [
      "Middle 95% of bootstrap estimates: [94.941176, 152.005882]\n"
     ]
    }
   ],
   "source": [
    "left_end = np.percentile(bootstrap_estimates,2.5)\n",
    "right_end = np.percentile(bootstrap_estimates,97.5)\n",
    "print(\"Middle 95% of bootstrap estimates: [{:f}, {:f}]\".format(left_end, right_end))"
   ]
  },
  {
   "cell_type": "markdown",
   "metadata": {},
   "source": [
    "#### Question 3.4\n",
    "Your mean-based estimate of `N` should have been around 122. Given the above calculations, is it likely that `N` is exactly 122? If not, what is the typical range of values of the mean-based estimates of `N` for samples of size 17?"
   ]
  },
  {
   "cell_type": "markdown",
   "metadata": {},
   "source": [
    "The likely range of values is between 94 and 153 (95% of the time)"
   ]
  },
  {
   "cell_type": "markdown",
   "metadata": {},
   "source": [
    "Check your solutions with someone on the edX discussion forums"
   ]
  },
  {
   "cell_type": "markdown",
   "metadata": {},
   "source": [
    "#### Question 3.5\n",
    "`N` was actually 150!  Write code that simulates the sampling and bootstrapping process again, as follows:\n",
    "\n",
    "1. Generate a new set of random observations by sampling from the population table we have created for you below. \n",
    "2. Compute an estimate of `N` from these new observations, using `mean_based_estimator`.\n",
    "3. Using only the new observations, compute 5,000 bootstrap estimates of `N`.\n",
    "4. Plot these bootstrap estimates and compute an interval covering the middle 95%."
   ]
  },
  {
   "cell_type": "code",
   "execution_count": 17,
   "metadata": {},
   "outputs": [
    {
     "name": "stdout",
     "output_type": "stream",
     "text": [
      "New mean-based estimate: 136.533333\n",
      "Middle 95% of bootstrap estimates: [123.079667, 150.268000]\n"
     ]
    },
    {
     "data": {
      "image/png": "[encoded data removed]",
      "text/plain": [
       "<Figure size 432x288 with 1 Axes>"
      ]
     },
     "metadata": {},
     "output_type": "display_data"
    }
   ],
   "source": [
    "population = Table().with_column(\"serial number\", np.arange(1, 150+1))\n",
    "\n",
    "new_observations = population.sample()\n",
    "new_mean_based_estimate = mean_based_estimator(new_observations.column(0))\n",
    "new_bootstrap_estimates = simulate_estimates(new_observations,new_observations.num_rows,mean_based_estimator,5000)\n",
    "Table().with_column('mean-based estimate', new_bootstrap_estimates).hist(bins=np.arange(0,200,4))\n",
    "new_left_end = np.percentile(new_bootstrap_estimates,2.5)\n",
    "new_right_end = np.percentile(new_bootstrap_estimates,97.5)\n",
    "\n",
    "print(\"New mean-based estimate: {:f}\".format(new_mean_based_estimate))\n",
    "print(\"Middle 95% of bootstrap estimates: [{:f}, {:f}]\".format(new_left_end, new_right_end))"
   ]
  },
  {
   "cell_type": "markdown",
   "metadata": {},
   "source": [
    "#### Question 3.6\n",
    "Does the interval covering the middle 95% of the new bootstrap estimates include `N`?  If you ran that cell many times, what is the probability that it will include `N`?"
   ]
  },
  {
   "cell_type": "markdown",
   "metadata": {},
   "source": [
    "Yes, approximately 95% of the time."
   ]
  },
  {
   "cell_type": "markdown",
   "metadata": {},
   "source": [
    "Check your solutions with someone on the edX discussion forums"
   ]
  },
  {
   "cell_type": "markdown",
   "metadata": {},
   "source": [
    "## Submission"
   ]
  },
  {
   "cell_type": "markdown",
   "metadata": {},
   "source": [
    "Conratulations! You're finished with lab 5 and Data 8.2x! In order to successfully submit your assignment, follow these steps...\n",
    "- **IMPORTANT** Before you do anything, **Save and Checkpoint** from the `File` menu. Please do this first before running the cell below,\n",
    "- **run all the tests and verify that they all pass** (the next cell has a shortcut for that), \n",
    "- **Review the notebook one last time, we will be grading the final state of your notebook** If you make any changes, please **Save and Checkpoint** again."
   ]
  },
  {
   "cell_type": "code",
   "execution_count": null,
   "metadata": {},
   "outputs": [],
   "source": []
  }
 ],
 "metadata": {
  "anaconda-cloud": {},
  "kernelspec": {
   "display_name": "Python 3",
   "language": "python",
   "name": "python3"
  },
  "language_info": {
   "codemirror_mode": {
    "name": "ipython",
    "version": 3
   },
   "file_extension": ".py",
   "mimetype": "text/x-python",
   "name": "python",
   "nbconvert_exporter": "python",
   "pygments_lexer": "ipython3",
   "version": "3.6.5"
  }
 },
 "nbformat": 4,
 "nbformat_minor": 1
}
