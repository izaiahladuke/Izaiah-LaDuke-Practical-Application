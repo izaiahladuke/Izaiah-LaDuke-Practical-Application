{
 "cells": [
  {
   "cell_type": "markdown",
   "metadata": {},
   "source": [
    "# Practical Application Lesson 4\n",
    "## C2C Izaiah LaDuke"
   ]
  },
  {
   "cell_type": "markdown",
   "metadata": {},
   "source": [
    "1. Create 3 variables for name (first and last), age and hometown. Assign to these\n",
    "variables your own name, age and hometown. Now, recreate the following sentence\n",
    "using variable assignment and the ‘print’ command in Python: \" I am Your name here. I am Age years old. I'm from Hometown\""
   ]
  },
  {
   "cell_type": "code",
   "execution_count": 1,
   "metadata": {},
   "outputs": [
    {
     "name": "stdout",
     "output_type": "stream",
     "text": [
      "I am Izaiah LaDuke. I am 20 years old. I'm from Buffalo City, WI\n"
     ]
    }
   ],
   "source": [
    "name = 'Izaiah LaDuke'\n",
    "age = '20'\n",
    "hometown= 'Buffalo City, WI'\n",
    "sentence ='I am ' + name + '. I am ' + age + \" years old. I'm from \" + hometown\n",
    "print(sentence)"
   ]
  },
  {
   "cell_type": "markdown",
   "metadata": {},
   "source": [
    "a) Now, use a string method to make your name lower case. Print the all lower case\n",
    "version of your name."
   ]
  },
  {
   "cell_type": "code",
   "execution_count": 2,
   "metadata": {},
   "outputs": [
    {
     "data": {
      "text/plain": [
       "'izaiah laduke'"
      ]
     },
     "execution_count": 2,
     "metadata": {},
     "output_type": "execute_result"
    }
   ],
   "source": [
    "name.lower()"
   ]
  },
  {
   "cell_type": "markdown",
   "metadata": {},
   "source": [
    "b) Now use a string method to make your full name a proper noun. Print this version of\n",
    "your name."
   ]
  },
  {
   "cell_type": "code",
   "execution_count": 3,
   "metadata": {},
   "outputs": [
    {
     "name": "stdout",
     "output_type": "stream",
     "text": [
      "Izaiah LaDuke\n"
     ]
    }
   ],
   "source": [
    "name[0].upper()\n",
    "name[7].upper()\n",
    "name[9].upper()\n",
    "print(name)"
   ]
  },
  {
   "cell_type": "markdown",
   "metadata": {},
   "source": [
    "2) Using the ‘replace’ method, replace all “I am” with “he is” or “she is” and all “I’m” with\n",
    "“he’s” or “she’s”."
   ]
  },
  {
   "cell_type": "code",
   "execution_count": 4,
   "metadata": {},
   "outputs": [
    {
     "name": "stdout",
     "output_type": "stream",
     "text": [
      "He is Izaiah LaDuke. He is 20 years old. He's from Buffalo City, WI\n"
     ]
    }
   ],
   "source": [
    "sentence= sentence.replace('I am', 'He is')\n",
    "sentence=sentence.replace(\"I'm\", \"He's\")\n",
    "print(sentence)"
   ]
  },
  {
   "cell_type": "markdown",
   "metadata": {},
   "source": [
    "3) Return a boolean response indicating whether the length of your original sentence (in\n",
    "#1) is greater than your age plus 40."
   ]
  },
  {
   "cell_type": "code",
   "execution_count": 5,
   "metadata": {},
   "outputs": [
    {
     "data": {
      "text/plain": [
       "True"
      ]
     },
     "execution_count": 5,
     "metadata": {},
     "output_type": "execute_result"
    }
   ],
   "source": [
    "age=int(age)\n",
    "length=len(sentence)\n",
    "bool(length > (age+40))\n"
   ]
  }
 ],
 "metadata": {
  "kernelspec": {
   "display_name": "Python 3",
   "language": "python",
   "name": "python3"
  },
  "language_info": {
   "codemirror_mode": {
    "name": "ipython",
    "version": 3
   },
   "file_extension": ".py",
   "mimetype": "text/x-python",
   "name": "python",
   "nbconvert_exporter": "python",
   "pygments_lexer": "ipython3",
   "version": "3.6.5"
  }
 },
 "nbformat": 4,
 "nbformat_minor": 2
}
